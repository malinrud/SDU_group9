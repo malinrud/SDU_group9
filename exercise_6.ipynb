{
  "nbformat": 4,
  "nbformat_minor": 0,
  "metadata": {
    "colab": {
      "provenance": [],
      "gpuType": "T4"
    },
    "kernelspec": {
      "name": "python3",
      "display_name": "Python 3"
    },
    "language_info": {
      "name": "python"
    },
    "accelerator": "GPU"
  },
  "cells": [
    {
      "cell_type": "code",
      "execution_count": 5,
      "metadata": {
        "id": "GQEZSvtwuU8x"
      },
      "outputs": [],
      "source": [
        "import torch\n",
        "import torch.nn as nn\n",
        "import torch.optim as optim\n",
        "from torchvision import datasets, transforms\n",
        "import torchvision\n",
        "import seaborn as sns\n",
        "import numpy as np\n",
        "import matplotlib.pyplot as plt\n",
        "import random\n",
        "import torch.nn.functional as F\n",
        "\n",
        "device = torch.device(\"cuda\" if torch.cuda.is_available() else \"cpu\")\n",
        "\n",
        "\n",
        "transform = transforms.ToTensor()\n",
        "train_dataset = datasets.MNIST(root   ='./data',  train=True   ,  download=True   , transform=transform)\n",
        "test_dataset = datasets.MNIST(root   ='./data',  train=False,  download=True   , transform=transform)\n",
        "train_loader = torch.utils.data.DataLoader(dataset=train_dataset, batch_size=64 ,  shuffle=True   )\n",
        "test_loader = torch.utils.data.DataLoader(dataset=test_dataset, batch_size=64, shuffle=False)"
      ]
    },
    {
      "cell_type": "code",
      "source": [
        "class Network(nn.Module):\n",
        "    def __init__(self):\n",
        "        super(Network,self).__init__()\n",
        "\n",
        "        self.conv1 = nn.Conv2d(in_channels=1, out_channels=32, kernel_size=3, padding=1)\n",
        "        self.conv2 = nn.Conv2d(in_channels=1, out_channels=32, kernel_size=5, padding=2)\n",
        "        self.relu = nn.ReLU()\n",
        "        self.pool = nn.MaxPool2d(kernel_size=2, stride=2)\n",
        "        self.l1 = nn.Linear(in_features=64*14*14, out_features=256)\n",
        "        self.l2 = nn.Linear(in_features=256, out_features=64)\n",
        "        self.l3 = nn.Linear(in_features=64, out_features=10)\n",
        "        self.dropout = nn.Dropout(p=0.5)\n",
        "\n",
        "    def forward(self, x):\n",
        "        x1 = self.relu(self.conv1(x))\n",
        "        x2 = self.relu(self.conv2(x))\n",
        "        x = torch.cat((x1, x2), dim=1)\n",
        "        x = self.pool(x)\n",
        "        x = x.view(x.size(0), -1)\n",
        "        x = self.relu(self.l1(x))\n",
        "        x = self.dropout(x)\n",
        "        x = self.relu(self.l2(x))\n",
        "        x = self.dropout(x)\n",
        "        x = self.l3(x)\n",
        "        return x"
      ],
      "metadata": {
        "id": "bmRaVkug1ltM"
      },
      "execution_count": 6,
      "outputs": []
    },
    {
      "cell_type": "code",
      "source": [
        "model = Network()\n",
        "modelname = 'CNN'\n",
        "loss_function = nn.CrossEntropyLoss()\n",
        "optimizer = optim.Adam(model.parameters(), lr=0.001)\n",
        "\n",
        "loss_rate = []\n",
        "\n",
        "loss_min = float('inf')\n",
        "steps = 0\n",
        "patience = 5\n",
        "i = 0\n",
        "\n",
        "device = torch.device(\"cuda\" if torch.cuda.is_available() else \"cpu\")\n",
        "model.to(device)\n",
        "\n",
        "while steps < patience:\n",
        "    i += 1\n",
        "    model.train()\n",
        "    loss_avg = []\n",
        "    for data, targets in train_loader:\n",
        "        data, targets = data.to(device), targets.to(device)  # Move data and targets to the device\n",
        "\n",
        "        optimizer.zero_grad()\n",
        "        outputs = model(data)\n",
        "        loss = loss_function(outputs, targets)\n",
        "        loss.backward()\n",
        "        optimizer.step()\n",
        "\n",
        "    model.eval()\n",
        "    correct, total = 0, 0\n",
        "    tr_correct, tr_total = 0, 0\n",
        "\n",
        "    with torch.no_grad():\n",
        "        for data, targets in test_loader:\n",
        "            data, targets = data.to(device), targets.to(device)  # Move data and targets to the device\n",
        "            outputs = model(data)\n",
        "            _, predicted = torch.max(outputs.detach(), dim=1)\n",
        "            total += targets.size(0)\n",
        "            correct += (predicted == targets).sum().item()\n",
        "\n",
        "    lossrate = 1- correct / total\n",
        "    print(f'Epoch: {i}, Lossrate: {lossrate}')\n",
        "    loss_rate.append(lossrate)\n",
        "\n",
        "    if lossrate < loss_min:\n",
        "        loss_min = lossrate\n",
        "        steps=0\n",
        "\n",
        "        torch.save(model, f'{modelname}_epoch{i}.pt')\n",
        "    else:\n",
        "        steps += 1"
      ],
      "metadata": {
        "colab": {
          "base_uri": "https://localhost:8080/"
        },
        "id": "ZDtl1Wf73F11",
        "outputId": "8630d20e-81a1-4ce3-e308-c23a45565e2e"
      },
      "execution_count": 15,
      "outputs": [
        {
          "output_type": "stream",
          "name": "stdout",
          "text": [
            "Epoch: 1, Lossrate: 0.023900000000000032\n",
            "Epoch: 2, Lossrate: 0.016199999999999992\n",
            "Epoch: 3, Lossrate: 0.012599999999999945\n",
            "Epoch: 4, Lossrate: 0.012199999999999989\n",
            "Epoch: 5, Lossrate: 0.011399999999999966\n",
            "Epoch: 6, Lossrate: 0.0121\n",
            "Epoch: 7, Lossrate: 0.010499999999999954\n",
            "Epoch: 8, Lossrate: 0.010800000000000032\n",
            "Epoch: 9, Lossrate: 0.009800000000000031\n",
            "Epoch: 10, Lossrate: 0.009600000000000053\n",
            "Epoch: 11, Lossrate: 0.009600000000000053\n",
            "Epoch: 12, Lossrate: 0.011199999999999988\n",
            "Epoch: 13, Lossrate: 0.009499999999999953\n",
            "Epoch: 14, Lossrate: 0.010499999999999954\n",
            "Epoch: 15, Lossrate: 0.009800000000000031\n",
            "Epoch: 16, Lossrate: 0.009099999999999997\n",
            "Epoch: 17, Lossrate: 0.009099999999999997\n",
            "Epoch: 18, Lossrate: 0.010099999999999998\n",
            "Epoch: 19, Lossrate: 0.009700000000000042\n",
            "Epoch: 20, Lossrate: 0.009099999999999997\n",
            "Epoch: 21, Lossrate: 0.009600000000000053\n"
          ]
        }
      ]
    }
  ]
}